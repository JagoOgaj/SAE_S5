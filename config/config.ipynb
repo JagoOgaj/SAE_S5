{
 "cells": [
  {
   "cell_type": "markdown",
   "metadata": {},
   "source": [
    "## Fichier de configuration pour le projet SAE_S5\n",
    "\n",
    "\n",
    "\n",
    "### Avertissement\n",
    "\n",
    "⚠️ **Veuillez suivre attentivement toutes les étapes de configuration.**\n",
    "\n",
    "Il est essentiel de suivre les instructions dans l'ordre pour éviter toute erreur de configuration. Veuillez vous assurer que les points suivants sont respectés :\n",
    "\n",
    "- Avant tout push vers le github, vous devez remettre ce fichier (`config.ipynb`) à son état d'origine\n",
    "- Le dépôt est cloné dans le bon répertoire sur Google Drive.\n",
    "- Git est correctement configuré avant d'effectuer toute action sur le dépôt (comme `git add`, `git commit`, etc.).\n",
    "\n",
    "---\n",
    "\n",
    "⚠️ **Ne jamais exposer votre `GITHUB_TOKEN`.**\n",
    "\n",
    "Il est impératif que votre `GITHUB_TOKEN` reste secret. Ne le partagez pas dans des dépôts publics ou des fichiers non sécurisés. Toute fuite de votre token pourrait entraîner des accès non autorisés à vos projets.\n",
    "\n",
    "\n"
   ]
  },
  {
   "cell_type": "markdown",
   "metadata": {},
   "source": [
    "# 1. Installation de git "
   ]
  },
  {
   "cell_type": "code",
   "execution_count": null,
   "metadata": {},
   "outputs": [],
   "source": [
    "!apt-get install git"
   ]
  },
  {
   "cell_type": "markdown",
   "metadata": {},
   "source": [
    "# 2. Connexion google drive"
   ]
  },
  {
   "cell_type": "code",
   "execution_count": null,
   "metadata": {},
   "outputs": [],
   "source": [
    "from google.colab import drive\n",
    "drive.mount('/content/drive')"
   ]
  },
  {
   "cell_type": "markdown",
   "metadata": {},
   "source": [
    "# 3. Global Var"
   ]
  },
  {
   "cell_type": "code",
   "execution_count": null,
   "metadata": {},
   "outputs": [],
   "source": [
    "TOKEN=\"\" \n",
    "GITHUB_USER=\"\"\n",
    "GITHUB_EMAIL=\"\""
   ]
  },
  {
   "cell_type": "markdown",
   "metadata": {},
   "source": [
    "# 4. Init git"
   ]
  },
  {
   "cell_type": "code",
   "execution_count": null,
   "metadata": {},
   "outputs": [],
   "source": [
    "# Si dossier existe\n",
    "!rm -rf /content/drive/MyDrive/SAE_S5"
   ]
  },
  {
   "cell_type": "code",
   "execution_count": null,
   "metadata": {},
   "outputs": [],
   "source": [
    "!git clone https://{TOKEN}@github.com/JagoOgaj/SAE_S5.git /content/drive/MyDrive/SAE_S5\n",
    "%cd /content/drive/MyDrive/SAE_S5"
   ]
  },
  {
   "cell_type": "code",
   "execution_count": null,
   "metadata": {},
   "outputs": [],
   "source": [
    "!git config --global user.name \"{GIT_USER_NAME}\"\n",
    "!git config --global user.email \"{GIT_USER_EMAIL}\"\n",
    "\n",
    "!git remote set-url origin https://{TOKEN}@github.com/{REPO_URL}"
   ]
  },
  {
   "cell_type": "markdown",
   "metadata": {},
   "source": [
    "# 5. Load les dépendances"
   ]
  },
  {
   "cell_type": "code",
   "execution_count": null,
   "metadata": {},
   "outputs": [],
   "source": [
    "%pip install -r requirements.txt"
   ]
  },
  {
   "cell_type": "markdown",
   "metadata": {},
   "source": [
    "# 6 . Git Command"
   ]
  },
  {
   "cell_type": "code",
   "execution_count": null,
   "metadata": {},
   "outputs": [],
   "source": [
    "## Use here git command"
   ]
  }
 ],
 "metadata": {
  "kernelspec": {
   "display_name": "Python 3",
   "language": "python",
   "name": "python3"
  },
  "language_info": {
   "codemirror_mode": {
    "name": "ipython",
    "version": 3
   },
   "file_extension": ".py",
   "mimetype": "text/x-python",
   "name": "python",
   "nbconvert_exporter": "python",
   "pygments_lexer": "ipython3",
   "version": "3.12.7"
  }
 },
 "nbformat": 4,
 "nbformat_minor": 2
}
