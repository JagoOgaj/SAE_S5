{
 "cells": [
  {
   "cell_type": "markdown",
   "metadata": {},
   "source": [
    "## Code source du modèle\n",
    "\n",
    "### Avertissement\n",
    "\n",
    "⚠️ **Veuillez effectuer l'étape de configuration avec soin**\n",
    "\n",
    "Il est essentiel de compléter l'étape de configuration correctement pour éviter toute erreur. Veuillez vous assurer de respecter les points suivants :\n",
    "\n",
    "- **Avant tout push vers GitHub,** assurez-vous de ne pas laisser d'informations sensibles ou compromettantes dans votre code.\n",
    "- **Le dépôt doit être cloné dans le bon répertoire sur Google Drive** pour garantir que les fichiers sont correctement synchronisés.\n",
    "- **Git doit être correctement configuré** avant d'effectuer toute action sur le dépôt, telles que `git add`, `git commit`, etc.\n",
    "\n",
    "---\n",
    "\n",
    "⚠️ **Ne jamais exposer votre `GITHUB_TOKEN`**.\n",
    "\n",
    "Il est impératif que votre `GITHUB_TOKEN` soit gardé secret. Ne le partagez **jamais** dans des dépôts publics, des fichiers non sécurisés ou des endroits où des tiers pourraient y accéder. Toute fuite de votre token pourrait entraîner des accès non autorisés à vos projets et à vos données privées."
   ]
  },
  {
   "cell_type": "markdown",
   "metadata": {},
   "source": [
    "# 1 . Connexion avec le drive "
   ]
  },
  {
   "cell_type": "code",
   "execution_count": null,
   "metadata": {},
   "outputs": [],
   "source": [
    "from google.colab import drive\n",
    "drive.mount('/content/drive')"
   ]
  },
  {
   "cell_type": "markdown",
   "metadata": {},
   "source": [
    "# 2 . Installer la configuration"
   ]
  },
  {
   "cell_type": "code",
   "execution_count": null,
   "metadata": {},
   "outputs": [],
   "source": [
    "# Attendre quelque secondes avant de continuer (sync avec le drive)\n",
    "!mkdir -p /content/drive/MyDrive/SAE_S5 "
   ]
  },
  {
   "cell_type": "code",
   "execution_count": null,
   "metadata": {},
   "outputs": [],
   "source": [
    "bash_script = \"\"\"\n",
    "#!/bin/bash\n",
    "\n",
    "#####################\n",
    "#                   #\n",
    "#       Config      #\n",
    "#                   #\n",
    "#####################\n",
    "\n",
    "apt-get install git\n",
    "\n",
    "if [ \"$#\" -ne 3 ]; then\n",
    "    echo \"Usage: $0 <TOKEN> <GITHUB_USER> <GITHUB_EMAIL>\"\n",
    "    exit 1\n",
    "fi\n",
    "\n",
    "TOKEN=$1\n",
    "GITHUB_USER=$2\n",
    "GITHUB_EMAIL=$3\n",
    "\n",
    "REPO_DIR=\"/content/drive/MyDrive/SAE_S5\"\n",
    "\n",
    "if [ -d \"$REPO_DIR\" ]; then\n",
    "  echo \"Le dossier existe déjà. Suppression du dossier existant...\"\n",
    "  rm -rf \"$REPO_DIR\"\n",
    "fi\n",
    "\n",
    "mkdir -p \"$REPO_DIR\"\n",
    "\n",
    "git clone https://$TOKEN@github.com/JagoOgaj/SAE_S5.git \"$REPO_DIR\"\n",
    "\n",
    "cd \"$REPO_DIR\"\n",
    "\n",
    "git config --global user.name \"$GITHUB_USER\"\n",
    "git config --global user.email \"$GITHUB_EMAIL\"\n",
    "\n",
    "git remote set-url origin https://$TOKEN@github.com/JagoOgaj/SAE_S5.git\n",
    "\n",
    "pip install -r \"$REPO_DIR/requirements.txt\"\n",
    "\n",
    "echo \"Configuration terminée avec succès!\"\n",
    "\"\"\"\n",
    "\n",
    "# Écrire le contenu dans un fichier bash\n",
    "with open('/content/drive/MyDrive/SAE_S5/config.sh', 'w') as f:\n",
    "    f.write(bash_script)\n",
    "\n",
    "print(\"Le fichier config.sh a été créé avec succès!\")"
   ]
  },
  {
   "cell_type": "code",
   "execution_count": null,
   "metadata": {},
   "outputs": [],
   "source": [
    "!chmod +x /content/drive/MyDrive/SAE_S5/config.sh"
   ]
  },
  {
   "cell_type": "code",
   "execution_count": null,
   "metadata": {},
   "outputs": [],
   "source": [
    "#!bash /content/drive/MyDrive/SAE_S5/config.sh <Token> <Github Name> <Github Email>"
   ]
  },
  {
   "cell_type": "markdown",
   "metadata": {},
   "source": [
    "## Git Command"
   ]
  },
  {
   "cell_type": "code",
   "execution_count": null,
   "metadata": {},
   "outputs": [],
   "source": [
    "#Use here git command"
   ]
  }
 ],
 "metadata": {
  "kernelspec": {
   "display_name": "Python 3",
   "language": "python",
   "name": "python3"
  },
  "language_info": {
   "name": "python",
   "version": "3.12.7"
  }
 },
 "nbformat": 4,
 "nbformat_minor": 2
}
